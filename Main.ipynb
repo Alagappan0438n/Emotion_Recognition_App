{
 "cells": [
  {
   "cell_type": "markdown",
   "metadata": {},
   "source": [
    "# Importing Necessary Libraries"
   ]
  },
  {
   "cell_type": "code",
   "execution_count": null,
   "metadata": {},
   "outputs": [
    {
     "ename": "",
     "evalue": "",
     "output_type": "error",
     "traceback": [
      "\u001b[1;31mRunning cells with 'Python 3.10.6' requires the ipykernel package.\n",
      "\u001b[1;31mRun the following command to install 'ipykernel' into the Python environment. \n",
      "\u001b[1;31mCommand: 'c:/Users/YESH/AppData/Local/Programs/Python/Python310/python.exe -m pip install ipykernel -U --user --force-reinstall'"
     ]
    }
   ],
   "source": [
    "# Import Necessary Libraries\n",
    "import pandas as pd\n",
    "import numpy as np\n",
    "import seaborn as sns\n",
    "import matplotlib.pyplot as plt"
   ]
  },
  {
   "cell_type": "markdown",
   "metadata": {},
   "source": [
    "# Dataset Loading and Preprocessing\n",
    "\n",
    "Load the dataset from the CSV file and preprocess it. This includes:\n",
    "1. Converting the pixel data into numerical arrays.\n",
    "2. Mapping emotion labels to corresponding names (e.g., 0 → \"Angry\", 1 → \"Disgust\")."
   ]
  },
  {
   "cell_type": "code",
   "execution_count": null,
   "metadata": {},
   "outputs": [],
   "source": [
    "# Load the Dataset\n",
    "def load_dataset(path):\n",
    "    \"\"\"Load the dataset from a CSV file.\"\"\"\n",
    "    return pd.read_csv(path)\n",
    "\n",
    "# Preprocess the Dataset\n",
    "def preprocess_dataset(df):\n",
    "    \"\"\"Preprocess the dataset.\"\"\"\n",
    "    # Convert pixel data into numerical arrays\n",
    "    df['pixels'] = df['pixels'].apply(lambda x: [int(p) for p in x.split()])\n",
    "    \n",
    "    # Assign emotion labels\n",
    "    emotion_labels = [\"Angry\", \"Disgust\", \"Fear\", \"Happy\", \"Sad\", \"Surprise\", \"Neutral\"]\n",
    "    df['emotion'] = df['emotion'].map({\n",
    "        0: 'Angry', 1: 'Disgust', 2: 'Fear', 3: 'Happy', \n",
    "        4: 'Sad', 5: 'Surprise', 6: 'Neutral'\n",
    "    })\n",
    "    \n",
    "    return df\n"
   ]
  },
  {
   "cell_type": "markdown",
   "metadata": {},
   "source": [
    "# Visualizations\n",
    "\n",
    "Visualize different aspects of the dataset:\n",
    "1. **Emotion Distribution**: The count of each emotion in the dataset.\n",
    "2. **Pixel Intensity Distribution**: The distribution of pixel intensities across the dataset.\n",
    "3. **Sample Images**: A few sample images from the dataset along with their emotion labels."
   ]
  },
  {
   "cell_type": "code",
   "execution_count": null,
   "metadata": {},
   "outputs": [],
   "source": [
    "# Plot Emotion Distribution\n",
    "def plot_emotion_distribution(df):\n",
    "    \"\"\"Plot the distribution of emotions.\"\"\"\n",
    "    plt.figure(figsize=(10, 6))\n",
    "    sns.countplot(data=df, x='emotion', order=['Angry', 'Disgust', 'Fear', 'Happy', 'Sad', 'Surprise', 'Neutral'])\n",
    "    plt.title('Emotion Distribution')\n",
    "    plt.xlabel('Emotion')\n",
    "    plt.ylabel('Count')\n",
    "    plt.show()\n",
    "\n",
    "# Plot Image Pixel Intensity Distribution\n",
    "def plot_pixel_intensity_distribution(df):\n",
    "    \"\"\"Plot the pixel intensity distribution across the entire dataset.\"\"\"\n",
    "    all_pixels = np.concatenate(df['pixels'].values)\n",
    "    plt.figure(figsize=(10, 6))\n",
    "    sns.histplot(all_pixels, bins=50, kde=True, color='blue')\n",
    "    plt.title('Pixel Intensity Distribution')\n",
    "    plt.xlabel('Pixel Intensity')\n",
    "    plt.ylabel('Frequency')\n",
    "    plt.show()\n",
    "\n",
    "# Plot Sample Images from the Dataset\n",
    "def plot_sample_images(df, num_samples=5):\n",
    "    \"\"\"Plot a few sample images from the dataset.\"\"\"\n",
    "    sample_data = df.sample(num_samples)\n",
    "    plt.figure(figsize=(10, 10))\n",
    "    \n",
    "    for i, (index, row) in enumerate(sample_data.iterrows()):\n",
    "        image = np.array(row['pixels']).reshape(48, 48)\n",
    "        plt.subplot(1, num_samples, i + 1)\n",
    "        plt.imshow(image, cmap='gray')\n",
    "        plt.title(row['emotion'])\n",
    "        plt.axis('off')\n",
    "    \n",
    "    plt.tight_layout()\n",
    "    plt.show()\n"
   ]
  },
  {
   "cell_type": "markdown",
   "metadata": {},
   "source": [
    "# Main Execution\n",
    "\n",
    "Load the raw dataset, preprocess it, and visualize various aspects of the data.\n",
    "1. Load the raw dataset from the CSV file.\n",
    "2. Preprocess the data to convert pixel data and assign emotion labels.\n",
    "3. Save the processed dataset to a new file.\n",
    "4. Visualize the emotion distribution, pixel intensity distribution, and sample images."
   ]
  },
  {
   "cell_type": "code",
   "execution_count": null,
   "metadata": {},
   "outputs": [],
   "source": [
    "# Main Execution\n",
    "if __name__ == \"__main__\":\n",
    "    # Define path to the raw dataset\n",
    "    dataset_path = r\"data/raw/fer2013.csv\"\n",
    "    \n",
    "    # Load the dataset\n",
    "    raw_df = load_dataset(dataset_path)\n",
    "    \n",
    "    # Perform preprocessing\n",
    "    processed_df = preprocess_dataset(raw_df)\n",
    "    \n",
    "    # Save processed data to a new file\n",
    "    processed_df.to_csv(r\"data/processed/processed_fer2013.csv\", index=False)\n",
    "    \n",
    "    # Plot and visualize the emotion distribution\n",
    "    plot_emotion_distribution(processed_df)\n",
    "    \n",
    "    # Plot and visualize the pixel intensity distribution\n",
    "    plot_pixel_intensity_distribution(processed_df)\n",
    "    \n",
    "    # Plot sample images from the dataset\n",
    "    plot_sample_images(processed_df)\n",
    "    \n",
    "    # Check Dataset Info (Optional)\n",
    "    processed_df.info()"
   ]
  }
 ],
 "metadata": {
  "kernelspec": {
   "display_name": "Python 3",
   "language": "python",
   "name": "python3"
  },
  "language_info": {
   "name": "python",
   "version": "3.10.6"
  }
 },
 "nbformat": 4,
 "nbformat_minor": 2
}
